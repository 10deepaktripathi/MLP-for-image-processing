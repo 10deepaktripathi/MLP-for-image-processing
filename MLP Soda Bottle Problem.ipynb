{
 "cells": [
  {
   "cell_type": "markdown",
   "metadata": {
    "colab_type": "text",
    "id": "rfj_hrrDPl9Q"
   },
   "source": [
    "<h3>Lets see how MLP performs on an image processing task <br/>\n",
    "   Note that we should use CNN for such tasks. </h3>\n",
    "<h4> This is just for lerning purpose. I did the same project using CNN, in which i got 95% accuracy<br/>\n",
    "   We will build this MLP using tensor flow.buliding same MLP in keras in much easier than this"
   ]
  },
  {
   "cell_type": "code",
   "execution_count": 1,
   "metadata": {
    "colab": {
     "autoexec": {
      "startup": false,
      "wait_interval": 0
     },
     "base_uri": "https://localhost:8080/",
     "height": 407
    },
    "colab_type": "code",
    "executionInfo": {
     "elapsed": 7618,
     "status": "ok",
     "timestamp": 1524233979321,
     "user": {
      "displayName": "Brahma Reddy",
      "photoUrl": "//lh3.googleusercontent.com/-yCpFTUxFtZQ/AAAAAAAAAAI/AAAAAAAAa8w/qMMF8qrlVGo/s50-c-k-no/photo.jpg",
      "userId": "106404213545378824111"
     },
     "user_tz": -330
    },
    "id": "fIymnakkW_ef",
    "outputId": "a8906b86-0e2d-4d3d-823e-e5afab4c3ae1"
   },
   "outputs": [
    {
     "name": "stderr",
     "output_type": "stream",
     "text": [
      "Using TensorFlow backend.\n"
     ]
    }
   ],
   "source": [
    "from keras.preprocessing.image import ImageDataGenerator #I have used it to read images from drive and scale them\n",
    "import tensorflow as tf\n",
    "import math\n",
    "img_width, img_height = 30, 30\n",
    "\n",
    "batch_size=50\n",
    "train_data_dir = 'D:\\\\Soda Bottles\\\\val\\\\train'\n",
    "validation_data_dir = 'D:\\\\Soda Bottles\\\\val\\\\val' \n",
    "test_data_dir = 'D:\\\\Soda Bottles\\\\val\\\\test' "
   ]
  },
  {
   "cell_type": "code",
   "execution_count": 2,
   "metadata": {
    "colab": {
     "autoexec": {
      "startup": false,
      "wait_interval": 0
     }
    },
    "colab_type": "code",
    "id": "kCIcM92XW_ek"
   },
   "outputs": [],
   "source": [
    "import pdb\n",
    "import matplotlib.pyplot as plt\n",
    "import numpy as np\n",
    "import time\n",
    "\n",
    "# https://gist.github.com/greydanus/f6eee59eaf1d90fcb3b534a25362cea4\n",
    "# https://stackoverflow.com/a/14434334\n",
    "# this function is used to update the plots for each epoch and error\n",
    "def plt_dynamic(x, y, y_1, ax, ticks,title, colors=['b']):\n",
    "    ax.plot(x, y, 'b', label=\"Train Loss\")\n",
    "    ax.plot(x, y_1, 'r', label=\"Test Loss\")\n",
    "    if len(x)==1:\n",
    "        plt.legend()\n",
    "        plt.title(title)\n",
    "    plt.yticks(ticks)\n",
    "    fig.canvas.draw()"
   ]
  },
  {
   "cell_type": "code",
   "execution_count": 3,
   "metadata": {},
   "outputs": [
    {
     "name": "stdout",
     "output_type": "stream",
     "text": [
      "Found 5003 images belonging to 8 classes.\n",
      "Found 1468 images belonging to 8 classes.\n"
     ]
    }
   ],
   "source": [
    "datagen = ImageDataGenerator(rescale=1. / 255)\n",
    "\n",
    "train_generator = datagen.flow_from_directory(\n",
    "    train_data_dir,\n",
    "    target_size=(img_width, img_height),\n",
    "    batch_size=batch_size,\n",
    "    class_mode='categorical')\n",
    "\n",
    "validation_generator = datagen.flow_from_directory(\n",
    "    validation_data_dir,\n",
    "    target_size=(img_width, img_height),\n",
    "    batch_size=batch_size,\n",
    "    class_mode='categorical')"
   ]
  },
  {
   "cell_type": "code",
   "execution_count": 4,
   "metadata": {},
   "outputs": [],
   "source": [
    "import numpy as np\n",
    "train_images=[]\n",
    "train_labels=[]\n",
    "for i in range(int(len(train_generator.filenames)/batch_size)):\n",
    "    images,labels=next(train_generator)\n",
    "    train_images.extend(images)\n",
    "    train_labels.extend(labels)"
   ]
  },
  {
   "cell_type": "code",
   "execution_count": 5,
   "metadata": {},
   "outputs": [],
   "source": [
    "train_images=np.array(train_images)\n",
    "train_labels=np.array(train_labels)"
   ]
  },
  {
   "cell_type": "code",
   "execution_count": 6,
   "metadata": {},
   "outputs": [],
   "source": [
    "validation_images=[]\n",
    "validation_labels=[]\n",
    "for i in range(int(len(validation_generator.filenames)/batch_size)):\n",
    "    images,labels=next(train_generator)\n",
    "    validation_images.extend(images)\n",
    "    validation_labels.extend(labels)"
   ]
  },
  {
   "cell_type": "code",
   "execution_count": 7,
   "metadata": {},
   "outputs": [],
   "source": [
    "validation_images=np.array(validation_images)\n",
    "validation_labels=np.array(validation_labels)"
   ]
  },
  {
   "cell_type": "code",
   "execution_count": 8,
   "metadata": {},
   "outputs": [
    {
     "name": "stdout",
     "output_type": "stream",
     "text": [
      "(1403, 30, 30, 3)\n",
      "(5000, 30, 30, 3)\n"
     ]
    }
   ],
   "source": [
    "print(validation_images.shape)\n",
    "print(train_images.shape)"
   ]
  },
  {
   "cell_type": "code",
   "execution_count": 9,
   "metadata": {},
   "outputs": [],
   "source": [
    "train_images=[img.flatten() for img in train_images]\n",
    "validation_images=[img.flatten() for img in validation_images]"
   ]
  },
  {
   "cell_type": "code",
   "execution_count": 10,
   "metadata": {},
   "outputs": [],
   "source": [
    "validation_images=np.array(validation_images)\n",
    "train_images=np.array(train_images)"
   ]
  },
  {
   "cell_type": "code",
   "execution_count": 11,
   "metadata": {
    "colab": {
     "autoexec": {
      "startup": false,
      "wait_interval": 0
     }
    },
    "colab_type": "code",
    "id": "2ado_38xW_em"
   },
   "outputs": [
    {
     "data": {
      "text/plain": [
       "8"
      ]
     },
     "execution_count": 11,
     "metadata": {},
     "output_type": "execute_result"
    }
   ],
   "source": [
    "# Network Parameters\n",
    "n_hidden_1 = 700 # 1st layer number of neurons\n",
    "n_hidden_2 = 500 # 2nd layer number of neurons\n",
    "n_input = train_images.shape[1] #  data input (img shape: 30*30*3)\n",
    "n_classes = len(train_generator.class_indices) #  total classes (0-7 soda bottle)\n",
    "n_classes"
   ]
  },
  {
   "cell_type": "code",
   "execution_count": 12,
   "metadata": {
    "colab": {
     "autoexec": {
      "startup": false,
      "wait_interval": 0
     }
    },
    "colab_type": "code",
    "id": "QxBA530YW_eo"
   },
   "outputs": [],
   "source": [
    "# x isn't a specific value. It's a placeholder, a value that we'll input when we ask TensorFlow to run a computation.\n",
    "# We want to be able to input any number of Soda Bottle images, each flattened into a 30*30*3-dimensional vector. \n",
    "# (Here None means that a dimension can be of any length.)\n",
    "x =  tf.placeholder(tf.float32, [None, n_input])\n",
    "y_ = tf.placeholder(tf.float32, [None, n_classes])\n",
    "\n",
    "# keep_prob: we will be using these placeholders when we use dropouts, while testing model\n",
    "keep_prob = tf.placeholder(tf.float32)\n",
    "# keep_prob_input: we will be using these placeholders when we use dropouts, while training model\n",
    "keep_prob_input = tf.placeholder(tf.float32)"
   ]
  },
  {
   "cell_type": "code",
   "execution_count": 13,
   "metadata": {
    "colab": {
     "autoexec": {
      "startup": false,
      "wait_interval": 0
     }
    },
    "colab_type": "code",
    "id": "y7UGi3bTW_eq"
   },
   "outputs": [
    {
     "name": "stdout",
     "output_type": "stream",
     "text": [
      "WARNING:tensorflow:From C:\\ProgramData\\Anaconda3\\lib\\site-packages\\tensorflow\\python\\framework\\op_def_library.py:263: colocate_with (from tensorflow.python.framework.ops) is deprecated and will be removed in a future version.\n",
      "Instructions for updating:\n",
      "Colocations handled automatically by placer.\n"
     ]
    }
   ],
   "source": [
    "# Weight initialization\n",
    "\n",
    "# Outputs random values from a normal distribution mean=0 std=1\n",
    "\n",
    "# If we sample weights from a normal distribution N(0,σ) we satisfy this condition with σ=√(2/(ni+ni+1). \n",
    "# h1 =>  σ=√(2/(fan_in+fan_out+1)  \n",
    "# h2 =>  σ=√(2/(fan_in+fan_out+1)  \n",
    "# out =>  σ=√(2/(fan_in+fan_out+1) \n",
    "# SGD: Xavier/Glorot Normal initialization.\n",
    "std1=math.sqrt(2/(n_input+n_hidden_1+1))\n",
    "std2=math.sqrt(2/(n_hidden_1+n_hidden_2+1))\n",
    "std3=math.sqrt(2/(n_hidden_2+n_classes+1))\n",
    "\n",
    "weights_sgd = {\n",
    "    'h1': tf.Variable(tf.random_normal([n_input, n_hidden_1],stddev=std1, mean=0)),     \n",
    "    'h2': tf.Variable(tf.random_normal([n_hidden_1, n_hidden_2],stddev=std2, mean=0)), \n",
    "    'out': tf.Variable(tf.random_normal([n_hidden_2, n_classes],stddev=std3, mean=0)) \n",
    "}\n",
    "\n",
    "\n",
    "biases = {\n",
    "    'b1': tf.Variable(tf.random_normal([n_hidden_1])),             #700x1\n",
    "    'b2': tf.Variable(tf.random_normal([n_hidden_2])),             #500x1\n",
    "    'out': tf.Variable(tf.random_normal([n_classes]))              #8x1\n",
    "}\n"
   ]
  },
  {
   "cell_type": "code",
   "execution_count": null,
   "metadata": {
    "colab": {
     "autoexec": {
      "startup": false,
      "wait_interval": 0
     }
    },
    "colab_type": "code",
    "id": "coLzoyq6W_es"
   },
   "outputs": [],
   "source": []
  },
  {
   "cell_type": "markdown",
   "metadata": {
    "colab_type": "text",
    "id": "D17GOa7EW_eu"
   },
   "source": [
    "<h3> Model 1: input (2700) - sigmoid(700) - sigmoid(500) - \n",
    "softmax(output 8) </h3>"
   ]
  },
  {
   "cell_type": "code",
   "execution_count": 25,
   "metadata": {
    "colab": {
     "autoexec": {
      "startup": false,
      "wait_interval": 0
     }
    },
    "colab_type": "code",
    "id": "785WfoDgW_ev"
   },
   "outputs": [],
   "source": [
    "\n",
    "# Create model\n",
    "def multilayer_perceptron(x, weights, biases):\n",
    "    # Use tf.matmul instead of \"*\" because tf.matmul can change it's dimensions on the fly (broadcast)\n",
    "    print( 'x:', x.get_shape(), 'W[h1]:', weights['h1'].get_shape(), 'b[h1]:', biases['b1'].get_shape())        \n",
    "    \n",
    "    # Hidden layer with Sigmoid activation\n",
    "    layer_1 = tf.add(tf.matmul(x, weights['h1']), biases['b1']) #(x*weights['h1']) + biases['b1']\n",
    "    layer_1 = tf.nn.sigmoid(layer_1)\n",
    "    print( 'layer_1:', layer_1.get_shape(), 'W[h2]:', weights['h2'].get_shape(), 'b[h2]:', biases['b2'].get_shape())        \n",
    "    \n",
    "    # Hidden layer with Sigmoid activation\n",
    "    layer_2 = tf.add(tf.matmul(layer_1, weights['h2']), biases['b2']) # (layer_1 * weights['h2']) + biases['b2'] \n",
    "    layer_2 = tf.nn.sigmoid(layer_2)\n",
    "    print( 'layer_2:', layer_2.get_shape(), 'W[out]:', weights['out'].get_shape(), 'b3:', biases['out'].get_shape())        \n",
    "    \n",
    "    # Output layer with softmax activation\n",
    "    out_layer = tf.matmul(layer_2, weights['out']) + biases['out'] # (layer_2 * weights['out']) + biases['out']    \n",
    "    out_layer = tf.nn.softmax(out_layer)\n",
    "    print('out_layer:',out_layer.get_shape())\n",
    "\n",
    "    return out_layer"
   ]
  },
  {
   "cell_type": "code",
   "execution_count": null,
   "metadata": {},
   "outputs": [],
   "source": []
  },
  {
   "cell_type": "code",
   "execution_count": 36,
   "metadata": {},
   "outputs": [],
   "source": [
    "# Parameters\n",
    "training_epochs = 50\n",
    "learning_rate = 0.001\n",
    "batch_size = 50\n",
    "total_batch=int(train_images.shape[0]/50)\n",
    "display_step = 1              "
   ]
  },
  {
   "cell_type": "markdown",
   "metadata": {
    "colab_type": "text",
    "id": "gFbSVmCLW_ex"
   },
   "source": [
    "# __ MLP with Sgmoid Activation Unit + AdamOptimizer __"
   ]
  },
  {
   "cell_type": "code",
   "execution_count": 37,
   "metadata": {
    "colab": {
     "autoexec": {
      "startup": false,
      "wait_interval": 0
     },
     "base_uri": "https://localhost:8080/",
     "height": 867
    },
    "colab_type": "code",
    "executionInfo": {
     "elapsed": 105057,
     "status": "ok",
     "timestamp": 1524234093572,
     "user": {
      "displayName": "Brahma Reddy",
      "photoUrl": "//lh3.googleusercontent.com/-yCpFTUxFtZQ/AAAAAAAAAAI/AAAAAAAAa8w/qMMF8qrlVGo/s50-c-k-no/photo.jpg",
      "userId": "106404213545378824111"
     },
     "user_tz": -330
    },
    "id": "e_lbs-NrW_ex",
    "outputId": "13beb44a-0b07-4816-a04e-de0f3fdb55e8"
   },
   "outputs": [
    {
     "name": "stdout",
     "output_type": "stream",
     "text": [
      "x: (?, 2700) W[h1]: (2700, 700) b[h1]: (700,)\n",
      "layer_1: (?, 700) W[h2]: (700, 500) b[h2]: (500,)\n",
      "layer_2: (?, 500) W[out]: (500, 8) b3: (8,)\n",
      "out_layer: (?, 8)\n",
      "Epoch: 0001 train cost=2.088413353 val cost=2.087785153\n",
      "Epoch: 0002 train cost=2.068769994 val cost=2.067531712\n",
      "Epoch: 0003 train cost=2.013628922 val cost=2.007602199\n",
      "Epoch: 0004 train cost=1.979696857 val cost=1.973765012\n",
      "Epoch: 0005 train cost=1.961684515 val cost=1.957792199\n",
      "Epoch: 0006 train cost=1.922071234 val cost=1.916787229\n",
      "Epoch: 0007 train cost=1.885241396 val cost=1.880472279\n",
      "Epoch: 0008 train cost=1.853870308 val cost=1.849339551\n",
      "Epoch: 0009 train cost=1.831302323 val cost=1.825936860\n",
      "Epoch: 0010 train cost=1.819684539 val cost=1.816041287\n",
      "Epoch: 0011 train cost=1.781316929 val cost=1.776147429\n",
      "Epoch: 0012 train cost=1.771950243 val cost=1.771525420\n",
      "Epoch: 0013 train cost=1.728076162 val cost=1.724096141\n",
      "Epoch: 0014 train cost=1.713089268 val cost=1.711314014\n",
      "Epoch: 0015 train cost=1.692031238 val cost=1.689441401\n",
      "Epoch: 0016 train cost=1.678050427 val cost=1.675347067\n",
      "Epoch: 0017 train cost=1.665542229 val cost=1.663370202\n",
      "Epoch: 0018 train cost=1.687606062 val cost=1.683751037\n",
      "Epoch: 0019 train cost=1.649215051 val cost=1.646332299\n",
      "Epoch: 0020 train cost=1.642928858 val cost=1.639593630\n",
      "Epoch: 0021 train cost=1.647622224 val cost=1.644034435\n",
      "Epoch: 0022 train cost=1.632180494 val cost=1.629716722\n",
      "Epoch: 0023 train cost=1.623263024 val cost=1.620763382\n",
      "Epoch: 0024 train cost=1.623910596 val cost=1.622263367\n",
      "Epoch: 0025 train cost=1.620571940 val cost=1.620077324\n",
      "Epoch: 0026 train cost=1.611097233 val cost=1.611776019\n",
      "Epoch: 0027 train cost=1.608014054 val cost=1.606535267\n",
      "Epoch: 0028 train cost=1.609995413 val cost=1.610986987\n",
      "Epoch: 0029 train cost=1.594657342 val cost=1.595034473\n",
      "Epoch: 0030 train cost=1.592810421 val cost=1.593334121\n",
      "Epoch: 0031 train cost=1.606767842 val cost=1.606366673\n",
      "Epoch: 0032 train cost=1.602470232 val cost=1.603815132\n",
      "Epoch: 0033 train cost=1.599804857 val cost=1.598525840\n",
      "Epoch: 0034 train cost=1.601127713 val cost=1.602153370\n",
      "Epoch: 0035 train cost=1.579344699 val cost=1.580677047\n",
      "Epoch: 0036 train cost=1.586954730 val cost=1.588513681\n",
      "Epoch: 0037 train cost=1.586636188 val cost=1.588257380\n",
      "Epoch: 0038 train cost=1.587053108 val cost=1.586920372\n",
      "Epoch: 0039 train cost=1.586993072 val cost=1.590044545\n",
      "Epoch: 0040 train cost=1.593837330 val cost=1.593478043\n",
      "Epoch: 0041 train cost=1.589680220 val cost=1.588835130\n",
      "Epoch: 0042 train cost=1.598819324 val cost=1.597595974\n",
      "Epoch: 0043 train cost=1.589694993 val cost=1.588755844\n",
      "Epoch: 0044 train cost=1.587599428 val cost=1.589061568\n",
      "Epoch: 0045 train cost=1.581818336 val cost=1.578108555\n",
      "Epoch: 0046 train cost=1.570521384 val cost=1.568386923\n",
      "Epoch: 0047 train cost=1.580682914 val cost=1.577249653\n",
      "Epoch: 0048 train cost=1.561417229 val cost=1.553085103\n",
      "Epoch: 0049 train cost=1.565693566 val cost=1.562118590\n",
      "Epoch: 0050 train cost=1.584038211 val cost=1.572426777\n",
      "Accuracy: 0.766928\n"
     ]
    },
    {
     "data": {
      "image/png": "[encoded data removed]",
      "text/plain": [
       "<Figure size 432x288 with 1 Axes>"
      ]
     },
     "metadata": {
      "needs_background": "light"
     },
     "output_type": "display_data"
    }
   ],
   "source": [
    "# Since we are using sigmoid activations in hiden layers we will be using weights that are initalized as weights_sgd\n",
    "y_sgd = multilayer_perceptron(x, weights_sgd, biases)\n",
    "\n",
    "# https://www.tensorflow.org/api_docs/python/tf/nn/softmax_cross_entropy_with_logits\n",
    "cost_sgd = tf.reduce_mean(tf.nn.softmax_cross_entropy_with_logits(logits = y_sgd, labels = y_))\n",
    "\n",
    "# there are many optimizers available: https://www.tensorflow.org/versions/r1.2/api_guides/python/train#Optimizers \n",
    "optimizer_adam = tf.train.AdamOptimizer(learning_rate=learning_rate).minimize(cost_sgd)\n",
    "xs, ytrs, ytes = [], [], []\n",
    "with tf.Session() as sess:\n",
    "    tf.global_variables_initializer().run()\n",
    "    fig,ax = plt.subplots(1,1)\n",
    "    ax.set_xlabel('epoch') ; ax.set_ylabel('Soft Max Cross Entropy loss')\n",
    "    #xs, ytrs, ytes = [], [], []\n",
    "    for epoch in range(training_epochs):\n",
    "        train_avg_cost = 0.\n",
    "        test_avg_cost = 0.\n",
    "        total_batch = total_batch\n",
    "        n=0\n",
    "        # Loop over all batches\n",
    "        for i in range(total_batch):\n",
    "            batch_xs  = train_images[n:batch_size+n-1]\n",
    "            batch_ys  =train_labels[n:batch_size+n-1]\n",
    "            n=batch_size+n\n",
    "\n",
    "            # here c: corresponds to the parameter cost_sgd\n",
    "            # w : correspondse to the parameter weights_sgd\n",
    "            # c = sess.run() return the cost after every bath during train\n",
    "            # w = sess.run() return the weights that are modified after every batch through Back prop\n",
    "            # w is dict w = {'h1': updated h1 weight vector after the current batch,\n",
    "            #                'h2': updated h2 weight vector after the current batch, \n",
    "            #                'out': updated output weight vector after the current batch, \n",
    "            #                }\n",
    "            # you check these w matrix for every iteration, and check whats happening during back prop\n",
    "            #\n",
    "            # note: sess.run() returns parameter values based on the input parameters\n",
    "            # _, c, w = sess.run([optimizer_adam, cost_sgd,weights_sgd]) it returns three parameters\n",
    "            # _, c = sess.run([optimizer_adam, cost_sgd ]) it returns two parameters\n",
    "            # _ = sess.run([optimizer_adam]) it returns one paramter (for the input optimizer it return none)\n",
    "            # c = sess.run([cost_sgd]) it returns one paramter (for the input cost return error after the batch)\n",
    "\n",
    "            # feed_dict={x: batch_xs, y_: batch_ys} here x, y_ should be placeholders\n",
    "            # x, y_ are the input parameters on which the models gets trained\n",
    "\n",
    "            # here we use AdamOptimizer\n",
    "            \n",
    "            _, c, w = sess.run([optimizer_adam, cost_sgd,weights_sgd], feed_dict={x: batch_xs, y_: batch_ys})\n",
    "            train_avg_cost += c / total_batch\n",
    "            c = sess.run(cost_sgd, feed_dict={x: validation_images, y_: validation_labels})\n",
    "            test_avg_cost += c / total_batch\n",
    "\n",
    "        xs.append(epoch)\n",
    "        ytrs.append(train_avg_cost)\n",
    "        ytes.append(test_avg_cost)\n",
    "        plt_dynamic(xs, ytrs, ytes, ax, np.arange(min(min(ytrs),min(ytes)),max(max(ytrs),max(ytes)),step=0.04), \"Loss\")\n",
    "        \n",
    "        if epoch%display_step == 0:\n",
    "            print(\"Epoch:\", '%04d' % (epoch+1), \"train cost={:.9f}\".format(train_avg_cost), \"val cost={:.9f}\".format(test_avg_cost))\n",
    "    plt_dynamic(xs, ytrs, ytes, ax, np.arange(min(min(ytrs),min(ytes)),max(max(ytrs),max(ytes)),step=0.04), \"Loss\")\n",
    "\n",
    "    # we are calculating the final accuracy on the test data\n",
    "    correct_prediction = tf.equal(tf.argmax(y_sgd,1), tf.argmax(y_,1))\n",
    "    accuracy_val = tf.reduce_mean(tf.cast(correct_prediction, tf.float32))\n",
    "    accuracy_test = tf.reduce_mean(tf.cast(correct_prediction, tf.float32))\n",
    "    print(\"Accuracy on validattion data:\", accuracy_val.eval({x: validation_images, y_: validation_labels}))"
   ]
  },
  {
   "cell_type": "code",
   "execution_count": null,
   "metadata": {},
   "outputs": [],
   "source": []
  },
  {
   "cell_type": "markdown",
   "metadata": {},
   "source": [
    "<h4>From the above graph it is clear that we do not have overfitted model</h4><br/><h3>50 epochs are completed and we have observed just 76% accuracy on validation data. Note that accuracy may increase, if we run more no of epochs</h3> "
   ]
  },
  {
   "cell_type": "code",
   "execution_count": 38,
   "metadata": {
    "colab": {
     "autoexec": {
      "startup": false,
      "wait_interval": 0
     },
     "base_uri": "https://localhost:8080/",
     "height": 433
    },
    "colab_type": "code",
    "executionInfo": {
     "elapsed": 3764,
     "status": "ok",
     "timestamp": 1524234097387,
     "user": {
      "displayName": "Brahma Reddy",
      "photoUrl": "//lh3.googleusercontent.com/-yCpFTUxFtZQ/AAAAAAAAAAI/AAAAAAAAa8w/qMMF8qrlVGo/s50-c-k-no/photo.jpg",
      "userId": "106404213545378824111"
     },
     "user_tz": -330
    },
    "id": "XwNhAhptW_e0",
    "outputId": "625444b0-9b9b-46ae-8502-f0e58332c55e"
   },
   "outputs": [
    {
     "data": {
      "image/png": "[encoded data removed]",
      "text/plain": [
       "<Figure size 432x288 with 3 Axes>"
      ]
     },
     "metadata": {
      "needs_background": "light"
     },
     "output_type": "display_data"
    }
   ],
   "source": [
    "# Plot weight distriubtion at the end of training.\n",
    "\n",
    "import seaborn as sns\n",
    "h1_w = w['h1'].flatten().reshape(-1,1)\n",
    "h2_w = w['h2'].flatten().reshape(-1,1)\n",
    "out_w = w['out'].flatten().reshape(-1,1)\n",
    "\n",
    "\n",
    "fig = plt.figure()\n",
    "plt.subplot(1, 3, 1)\n",
    "plt.title(\"Weight matrix\")\n",
    "ax = sns.violinplot(y=h1_w,color='b')\n",
    "plt.xlabel('Hidden Layer 1')\n",
    "\n",
    "plt.subplot(1, 3, 2)\n",
    "plt.title(\"Weight matrix \")\n",
    "ax = sns.violinplot(y=h2_w, color='r')\n",
    "plt.xlabel('Hidden Layer 2 ')\n",
    "\n",
    "plt.subplot(1, 3, 3)\n",
    "plt.title(\"Weight matrix \")\n",
    "ax = sns.violinplot(y=out_w,color='y')\n",
    "plt.xlabel('Output Layer ')\n",
    "plt.show()"
   ]
  }
 ],
 "metadata": {
  "accelerator": "GPU",
  "colab": {
   "collapsed_sections": [],
   "default_view": {},
   "name": "MLP_Tensorflow_drive.ipynb",
   "provenance": [],
   "version": "0.3.2",
   "views": {}
  },
  "kernelspec": {
   "display_name": "Python 3",
   "language": "python",
   "name": "python3"
  },
  "language_info": {
   "codemirror_mode": {
    "name": "ipython",
    "version": 3
   },
   "file_extension": ".py",
   "mimetype": "text/x-python",
   "name": "python",
   "nbconvert_exporter": "python",
   "pygments_lexer": "ipython3",
   "version": "3.7.1"
  }
 },
 "nbformat": 4,
 "nbformat_minor": 1
}
